{
 "cells": [
  {
   "cell_type": "code",
   "execution_count": 1,
   "id": "e9e16933-6d20-4af4-8c8d-c1ab4f29b71f",
   "metadata": {},
   "outputs": [],
   "source": [
    "# Question 1"
   ]
  },
  {
   "cell_type": "code",
   "execution_count": 2,
   "id": "7d99dbb0-d5de-4e91-b04e-4518bd2c9bf3",
   "metadata": {},
   "outputs": [],
   "source": [
    "a= 'himanshu'"
   ]
  },
  {
   "cell_type": "code",
   "execution_count": 3,
   "id": "f449dd11-92fa-48f7-b860-7e256057be97",
   "metadata": {},
   "outputs": [
    {
     "data": {
      "text/plain": [
       "str"
      ]
     },
     "execution_count": 3,
     "metadata": {},
     "output_type": "execute_result"
    }
   ],
   "source": [
    "type(a)"
   ]
  },
  {
   "cell_type": "code",
   "execution_count": 4,
   "id": "9005e33b-eb84-42f6-be10-fc85de22265d",
   "metadata": {},
   "outputs": [],
   "source": [
    "a=[2,3,4,5,'himanshu',True,23.45]"
   ]
  },
  {
   "cell_type": "code",
   "execution_count": 5,
   "id": "6c8872ff-2464-4886-84eb-a8c346257cbe",
   "metadata": {},
   "outputs": [
    {
     "data": {
      "text/plain": [
       "list"
      ]
     },
     "execution_count": 5,
     "metadata": {},
     "output_type": "execute_result"
    }
   ],
   "source": [
    "type(a)"
   ]
  },
  {
   "cell_type": "code",
   "execution_count": 6,
   "id": "09befb6c-5a55-48c2-a269-a3272fbf4e21",
   "metadata": {},
   "outputs": [],
   "source": [
    "a=23.45"
   ]
  },
  {
   "cell_type": "code",
   "execution_count": 7,
   "id": "aa0d0703-a33c-4d13-8986-09e58d3a3596",
   "metadata": {},
   "outputs": [
    {
     "data": {
      "text/plain": [
       "float"
      ]
     },
     "execution_count": 7,
     "metadata": {},
     "output_type": "execute_result"
    }
   ],
   "source": [
    "type(a)"
   ]
  },
  {
   "cell_type": "code",
   "execution_count": 8,
   "id": "1612a732-c18a-4230-be48-b0e8ad9ba724",
   "metadata": {},
   "outputs": [],
   "source": [
    "# Question 2"
   ]
  },
  {
   "cell_type": "code",
   "execution_count": 9,
   "id": "43e27515-b8ce-4acb-be3d-9d5f5f159f04",
   "metadata": {},
   "outputs": [],
   "source": [
    "var1=''"
   ]
  },
  {
   "cell_type": "code",
   "execution_count": 10,
   "id": "30679040-95c8-4fa5-9861-e99affc04157",
   "metadata": {},
   "outputs": [
    {
     "data": {
      "text/plain": [
       "str"
      ]
     },
     "execution_count": 10,
     "metadata": {},
     "output_type": "execute_result"
    }
   ],
   "source": [
    "type(var1)"
   ]
  },
  {
   "cell_type": "code",
   "execution_count": 11,
   "id": "bd26b6e4-c66d-43a4-9786-e37cd39168c1",
   "metadata": {},
   "outputs": [],
   "source": [
    "var2='[DS,ML,Python]'"
   ]
  },
  {
   "cell_type": "code",
   "execution_count": 12,
   "id": "84bfe22e-2b40-458f-9583-60f1baeaff3c",
   "metadata": {},
   "outputs": [
    {
     "data": {
      "text/plain": [
       "str"
      ]
     },
     "execution_count": 12,
     "metadata": {},
     "output_type": "execute_result"
    }
   ],
   "source": [
    "type(var2)"
   ]
  },
  {
   "cell_type": "code",
   "execution_count": 13,
   "id": "c5bc00cc-93a5-4d1c-819c-49bb497d3fc2",
   "metadata": {},
   "outputs": [],
   "source": [
    "var3=['DS','ML','Python']"
   ]
  },
  {
   "cell_type": "code",
   "execution_count": 14,
   "id": "34cbfa23-1257-47ad-962b-f1d4d29693e9",
   "metadata": {},
   "outputs": [
    {
     "data": {
      "text/plain": [
       "list"
      ]
     },
     "execution_count": 14,
     "metadata": {},
     "output_type": "execute_result"
    }
   ],
   "source": [
    "type(var3)"
   ]
  },
  {
   "cell_type": "code",
   "execution_count": 15,
   "id": "46818bdf-e166-4756-b022-7937f83563a4",
   "metadata": {},
   "outputs": [],
   "source": [
    "var4=1."
   ]
  },
  {
   "cell_type": "code",
   "execution_count": 16,
   "id": "7d7f2107-2c58-4580-aa53-403c17a37557",
   "metadata": {},
   "outputs": [
    {
     "data": {
      "text/plain": [
       "float"
      ]
     },
     "execution_count": 16,
     "metadata": {},
     "output_type": "execute_result"
    }
   ],
   "source": [
    "type(var4)"
   ]
  },
  {
   "cell_type": "code",
   "execution_count": 17,
   "id": "db9aca96-a4b3-4841-9393-5b6f606ccc27",
   "metadata": {},
   "outputs": [],
   "source": [
    "# Question 3"
   ]
  },
  {
   "cell_type": "code",
   "execution_count": 18,
   "id": "b769e002-13d2-4355-8c5d-7768e85a69cb",
   "metadata": {},
   "outputs": [
    {
     "data": {
      "text/plain": [
       "4.0"
      ]
     },
     "execution_count": 18,
     "metadata": {},
     "output_type": "execute_result"
    }
   ],
   "source": [
    "20/5"
   ]
  },
  {
   "cell_type": "code",
   "execution_count": 20,
   "id": "80a76251-7c65-4a6e-9132-cbeb8e7226fa",
   "metadata": {},
   "outputs": [
    {
     "data": {
      "text/plain": [
       "2"
      ]
     },
     "execution_count": 20,
     "metadata": {},
     "output_type": "execute_result"
    }
   ],
   "source": [
    "50%4"
   ]
  },
  {
   "cell_type": "code",
   "execution_count": 21,
   "id": "8310e890-76cc-4826-8a4d-dfe0cc1bea11",
   "metadata": {},
   "outputs": [
    {
     "data": {
      "text/plain": [
       "25"
      ]
     },
     "execution_count": 21,
     "metadata": {},
     "output_type": "execute_result"
    }
   ],
   "source": [
    "50//2"
   ]
  },
  {
   "cell_type": "code",
   "execution_count": 22,
   "id": "af4e98ca-d716-458a-8153-bf713e2bb506",
   "metadata": {},
   "outputs": [
    {
     "data": {
      "text/plain": [
       "64000"
      ]
     },
     "execution_count": 22,
     "metadata": {},
     "output_type": "execute_result"
    }
   ],
   "source": [
    "40**3"
   ]
  },
  {
   "cell_type": "code",
   "execution_count": 23,
   "id": "62dce798-7e19-45ec-b879-dafd7133777f",
   "metadata": {},
   "outputs": [],
   "source": [
    "# Question 4"
   ]
  },
  {
   "cell_type": "code",
   "execution_count": 24,
   "id": "3d3a9690-2a34-4988-8931-72a4757cce64",
   "metadata": {},
   "outputs": [
    {
     "name": "stdout",
     "output_type": "stream",
     "text": [
      "<class 'int'>\n",
      "4\n",
      "<class 'int'>\n",
      "5\n",
      "<class 'int'>\n",
      "6\n",
      "<class 'int'>\n",
      "7\n",
      "<class 'str'>\n",
      "him\n",
      "<class 'bool'>\n",
      "True\n",
      "<class 'float'>\n",
      "23.45\n",
      "<class 'bool'>\n",
      "False\n",
      "<class 'complex'>\n",
      "(1+5j)\n",
      "<class 'str'>\n",
      "saini\n"
     ]
    }
   ],
   "source": [
    "l=[4,5,6,7,'him',True,23.45,False,1+5j,'saini']\n",
    "for i  in l:\n",
    "    print(type(i))\n",
    "    print(i)\n",
    "    "
   ]
  },
  {
   "cell_type": "code",
   "execution_count": 25,
   "id": "894e7fd7-8edb-46ba-b637-aa644483c99a",
   "metadata": {},
   "outputs": [],
   "source": [
    "# Question 5"
   ]
  },
  {
   "cell_type": "code",
   "execution_count": 6,
   "id": "6b0e4982-fb94-4d5e-af3f-9f43ad22344b",
   "metadata": {},
   "outputs": [
    {
     "name": "stdout",
     "output_type": "stream",
     "text": [
      "num a is purely divisible by b 1 times.\n"
     ]
    }
   ],
   "source": [
    "a=40\n",
    "b=8\n",
    "i=0\n",
    "while a%b==0:\n",
    "    i+=1\n",
    "    a=a/b\n",
    "if i>0:\n",
    "     print ( 'num a is purely divisible by b',i,'times.')\n",
    "else :\n",
    "    print(\"not divisible\")"
   ]
  },
  {
   "cell_type": "code",
   "execution_count": 7,
   "id": "9331751d-0944-48a0-bb4c-d45d4b1cf2cb",
   "metadata": {},
   "outputs": [],
   "source": [
    "# Question 6"
   ]
  },
  {
   "cell_type": "code",
   "execution_count": 54,
   "id": "4af33583-39b7-4136-8886-324def52598b",
   "metadata": {},
   "outputs": [
    {
     "name": "stdout",
     "output_type": "stream",
     "text": [
      "1 num is not divisible by 3\n",
      "2 num is not divisible by 3\n",
      "3 num is divisible by 3\n",
      "4 num is not divisible by 3\n",
      "5 num is not divisible by 3\n",
      "6 num is divisible by 3\n",
      "7 num is not divisible by 3\n",
      "8 num is not divisible by 3\n",
      "9 num is divisible by 3\n",
      "10 num is not divisible by 3\n",
      "11 num is not divisible by 3\n",
      "12 num is divisible by 3\n",
      "13 num is not divisible by 3\n",
      "14 num is not divisible by 3\n",
      "15 num is divisible by 3\n",
      "16 num is not divisible by 3\n",
      "17 num is not divisible by 3\n",
      "18 num is divisible by 3\n",
      "19 num is not divisible by 3\n",
      "20 num is not divisible by 3\n",
      "21 num is divisible by 3\n",
      "22 num is not divisible by 3\n",
      "23 num is not divisible by 3\n",
      "24 num is divisible by 3\n",
      "25 num is not divisible by 3\n"
     ]
    }
   ],
   "source": [
    "a=[1,2,3,4,5,6,7,8,9,10,11,12,13,14,15,16,17,18,19,20,21,22,23,24,25]\n",
    "for i in a :\n",
    "    if (i%3==0):\n",
    "        print(i,'num is divisible by 3')\n",
    "    else:\n",
    "          print(i,'num is not divisible by 3')\n",
    "\n",
    "    "
   ]
  },
  {
   "cell_type": "code",
   "execution_count": 55,
   "id": "d6d3a652-c657-4b38-ac34-e15c7ab30a78",
   "metadata": {},
   "outputs": [],
   "source": [
    "# Question 7"
   ]
  },
  {
   "cell_type": "code",
   "execution_count": 56,
   "id": "c99269fd-6b65-47fa-9216-79b759d9e19c",
   "metadata": {},
   "outputs": [],
   "source": [
    "# mutable"
   ]
  },
  {
   "cell_type": "code",
   "execution_count": 57,
   "id": "c9b4cf08-87f3-40a4-9ced-b5274a519fd1",
   "metadata": {},
   "outputs": [],
   "source": [
    "a=[1,2,3,'saini',True]"
   ]
  },
  {
   "cell_type": "code",
   "execution_count": 58,
   "id": "7e6bfee7-5ff9-451f-b8a8-83ebdeee21f6",
   "metadata": {},
   "outputs": [],
   "source": [
    "a[2]=6"
   ]
  },
  {
   "cell_type": "code",
   "execution_count": 59,
   "id": "67ef0cb7-c7ea-44b1-ab9b-9f5731d34963",
   "metadata": {},
   "outputs": [
    {
     "data": {
      "text/plain": [
       "6"
      ]
     },
     "execution_count": 59,
     "metadata": {},
     "output_type": "execute_result"
    }
   ],
   "source": [
    "a[2]"
   ]
  },
  {
   "cell_type": "code",
   "execution_count": 60,
   "id": "bd62653b-b784-4ad9-a745-406ccdfda69f",
   "metadata": {},
   "outputs": [],
   "source": [
    "# immutable"
   ]
  },
  {
   "cell_type": "code",
   "execution_count": 61,
   "id": "f1513df2-78ca-460f-b019-e12c54124c43",
   "metadata": {},
   "outputs": [],
   "source": [
    "a='himanshu'"
   ]
  },
  {
   "cell_type": "code",
   "execution_count": 62,
   "id": "6da5f09f-9fb1-4b64-9e6a-41a5103446fe",
   "metadata": {},
   "outputs": [
    {
     "data": {
      "text/plain": [
       "'a'"
      ]
     },
     "execution_count": 62,
     "metadata": {},
     "output_type": "execute_result"
    }
   ],
   "source": [
    "a[3]"
   ]
  },
  {
   "cell_type": "code",
   "execution_count": 63,
   "id": "4c7efef5-626b-4f7a-8882-6917efc29ded",
   "metadata": {},
   "outputs": [
    {
     "ename": "NameError",
     "evalue": "name 'm' is not defined",
     "output_type": "error",
     "traceback": [
      "\u001b[0;31m---------------------------------------------------------------------------\u001b[0m",
      "\u001b[0;31mNameError\u001b[0m                                 Traceback (most recent call last)",
      "Cell \u001b[0;32mIn[63], line 1\u001b[0m\n\u001b[0;32m----> 1\u001b[0m a[\u001b[38;5;241m3\u001b[39m]\u001b[38;5;241m=\u001b[39m\u001b[43mm\u001b[49m\n",
      "\u001b[0;31mNameError\u001b[0m: name 'm' is not defined"
     ]
    }
   ],
   "source": [
    "a[3]=m"
   ]
  },
  {
   "cell_type": "code",
   "execution_count": null,
   "id": "b33b9363-77a4-4fb1-8221-2e81aaf8c010",
   "metadata": {},
   "outputs": [],
   "source": []
  }
 ],
 "metadata": {
  "kernelspec": {
   "display_name": "Python 3 (ipykernel)",
   "language": "python",
   "name": "python3"
  },
  "language_info": {
   "codemirror_mode": {
    "name": "ipython",
    "version": 3
   },
   "file_extension": ".py",
   "mimetype": "text/x-python",
   "name": "python",
   "nbconvert_exporter": "python",
   "pygments_lexer": "ipython3",
   "version": "3.10.8"
  }
 },
 "nbformat": 4,
 "nbformat_minor": 5
}
